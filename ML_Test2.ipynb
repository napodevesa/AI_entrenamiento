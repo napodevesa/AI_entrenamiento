{
 "cells": [
  {
   "cell_type": "code",
   "execution_count": null,
   "id": "1c1e356f",
   "metadata": {},
   "outputs": [],
   "source": []
  },
  {
   "cell_type": "code",
   "execution_count": 51,
   "id": "76d6a697",
   "metadata": {},
   "outputs": [
    {
     "name": "stderr",
     "output_type": "stream",
     "text": [
      "/Users/napodevesa/Desktop/anaconda3/lib/python3.9/site-packages/sklearn/base.py:450: UserWarning: X does not have valid feature names, but DecisionTreeClassifier was fitted with feature names\n",
      "  warnings.warn(\n"
     ]
    },
    {
     "data": {
      "text/plain": [
       "array(['Hockey'], dtype=object)"
      ]
     },
     "execution_count": 51,
     "metadata": {},
     "output_type": "execute_result"
    }
   ],
   "source": [
    "import pandas as pd\n",
    "from sklearn.tree import DecisionTreeClassifier\n",
    "from sklearn.tree import plot_tree\n",
    "import joblib\n",
    "\n",
    "\n",
    "#dataset =pd.read_csv('deportes.csv')\n",
    "#dataset\n",
    "#dataset.drop(columns=['deporte'])\n",
    "#inputs=dataset.drop(columns=['deporte'])\n",
    "\n",
    "#dataset['deporte']\n",
    "#outputs=dataset['deporte']\n",
    "\n",
    "#modelo = DecisionTreeClassifier()\n",
    "#modelo.fit (inputs, outputs)\n",
    "\n",
    "modelo = joblib.load('deporte-ml.joblib')\n",
    "\n",
    "#predicciones = modelo.predict([[2,25]])\n",
    "#plot_tree (decision_tree=modelo, feature_names=inputs.columns, filled=True);\n",
    "#predicciones\n",
    "#joblib.dump(modelo,'deporte-ml.joblib')\n",
    "predicciones = modelo.predict([[2,25]])\n",
    "predicciones\n",
    "\n"
   ]
  },
  {
   "cell_type": "code",
   "execution_count": null,
   "id": "af90f2de",
   "metadata": {},
   "outputs": [],
   "source": []
  },
  {
   "cell_type": "code",
   "execution_count": null,
   "id": "2f9e083e",
   "metadata": {},
   "outputs": [],
   "source": []
  }
 ],
 "metadata": {
  "kernelspec": {
   "display_name": "Python 3 (ipykernel)",
   "language": "python",
   "name": "python3"
  },
  "language_info": {
   "codemirror_mode": {
    "name": "ipython",
    "version": 3
   },
   "file_extension": ".py",
   "mimetype": "text/x-python",
   "name": "python",
   "nbconvert_exporter": "python",
   "pygments_lexer": "ipython3",
   "version": "3.9.12"
  }
 },
 "nbformat": 4,
 "nbformat_minor": 5
}
