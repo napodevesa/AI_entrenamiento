{
 "cells": [
  {
   "cell_type": "code",
   "execution_count": 21,
   "id": "a6ca73ac",
   "metadata": {},
   "outputs": [
    {
     "data": {
      "text/plain": [
       "0       Football\n",
       "1       Football\n",
       "2       Football\n",
       "3     Volleyball\n",
       "4     Volleyball\n",
       "5     Volleyball\n",
       "6         Basket\n",
       "7         Basket\n",
       "8         Basket\n",
       "9         Hockey\n",
       "10        Hockey\n",
       "11        Hockey\n",
       "12       Running\n",
       "13       Running\n",
       "14       Running\n",
       "15        Basket\n",
       "16        Basket\n",
       "17        Basket\n",
       "Name: deporte, dtype: object"
      ]
     },
     "execution_count": 21,
     "metadata": {},
     "output_type": "execute_result"
    }
   ],
   "source": [
    "import pandas as pd\n",
    "dataset =pd.read_csv('deportes.csv')\n",
    "dataset.drop(columns=['deporte'])\n",
    "inputs=dataset.drop(columns=['deporte'])\n",
    "inputs\n",
    "dataset['deporte']\n",
    "outputs=dataset['deporte']\n",
    "outputs"
   ]
  },
  {
   "cell_type": "code",
   "execution_count": null,
   "id": "162bd8c5",
   "metadata": {},
   "outputs": [],
   "source": []
  },
  {
   "cell_type": "code",
   "execution_count": null,
   "id": "0f087ae5",
   "metadata": {},
   "outputs": [],
   "source": []
  },
  {
   "cell_type": "code",
   "execution_count": null,
   "id": "f7005668",
   "metadata": {},
   "outputs": [],
   "source": []
  }
 ],
 "metadata": {
  "kernelspec": {
   "display_name": "Python 3 (ipykernel)",
   "language": "python",
   "name": "python3"
  },
  "language_info": {
   "codemirror_mode": {
    "name": "ipython",
    "version": 3
   },
   "file_extension": ".py",
   "mimetype": "text/x-python",
   "name": "python",
   "nbconvert_exporter": "python",
   "pygments_lexer": "ipython3",
   "version": "3.9.12"
  }
 },
 "nbformat": 4,
 "nbformat_minor": 5
}
