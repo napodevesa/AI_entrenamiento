{
 "cells": [
  {
   "cell_type": "code",
   "execution_count": 7,
   "id": "b695cbe6",
   "metadata": {},
   "outputs": [
    {
     "data": {
      "text/plain": [
       "array([[1, 'Garena Free Fire- World Series', 86273129, ..., 2122183,\n",
       "        12495915, False],\n",
       "       [2, 'PUBG MOBILE - Traverse', 37276732, ..., 809821, 4709492,\n",
       "        False],\n",
       "       [3, 'Mobile Legends: Bang Bang', 26663595, ..., 713912, 4308998,\n",
       "        False],\n",
       "       ...,\n",
       "       [98, 'Scrabble® GO - New Word Game', 110723, ..., 6688, 12132,\n",
       "        False],\n",
       "       [99, 'Word Nut: Word Puzzle Games & Crosswords', 109530, ..., 953,\n",
       "        2353, False],\n",
       "       [100, 'Pinturillo 2', 108917, ..., 6166, 23631, False]],\n",
       "      dtype=object)"
      ]
     },
     "execution_count": 7,
     "metadata": {},
     "output_type": "execute_result"
    }
   ],
   "source": [
    "import pandas as pd\n",
    "df =pd.read_csv('android-games.csv')\n",
    "df\n",
    "df.shape\n",
    "df.describe()\n",
    "df.values\n"
   ]
  },
  {
   "cell_type": "code",
   "execution_count": null,
   "id": "3701845b",
   "metadata": {},
   "outputs": [],
   "source": []
  }
 ],
 "metadata": {
  "kernelspec": {
   "display_name": "Python 3 (ipykernel)",
   "language": "python",
   "name": "python3"
  },
  "language_info": {
   "codemirror_mode": {
    "name": "ipython",
    "version": 3
   },
   "file_extension": ".py",
   "mimetype": "text/x-python",
   "name": "python",
   "nbconvert_exporter": "python",
   "pygments_lexer": "ipython3",
   "version": "3.9.12"
  }
 },
 "nbformat": 4,
 "nbformat_minor": 5
}
