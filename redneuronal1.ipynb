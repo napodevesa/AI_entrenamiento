{
  "nbformat": 4,
  "nbformat_minor": 0,
  "metadata": {
    "colab": {
      "provenance": [],
      "collapsed_sections": [],
      "authorship_tag": "ABX9TyPC3MsvWan5DjCSqiY5C+ej",
      "include_colab_link": true
    },
    "kernelspec": {
      "name": "python3",
      "display_name": "Python 3"
    },
    "language_info": {
      "name": "python"
    }
  },
  "cells": [
    {
      "cell_type": "markdown",
      "metadata": {
        "id": "view-in-github",
        "colab_type": "text"
      },
      "source": [
        "<a href=\"https://colab.research.google.com/github/napodevesa/AI_entrenamiento/blob/main/redneuronal1.ipynb\" target=\"_parent\"><img src=\"https://colab.research.google.com/assets/colab-badge.svg\" alt=\"Open In Colab\"/></a>"
      ]
    },
    {
      "cell_type": "code",
      "execution_count": 4,
      "metadata": {
        "id": "eHefPyOzK0g_"
      },
      "outputs": [],
      "source": [
        "import tensorflow as tf\n",
        "import numpy as np"
      ]
    },
    {
      "cell_type": "code",
      "source": [
        "celsius = np.array([-40,10,0, 8, 15, 22, 18], dtype=float)\n",
        "fahrenheit = np.array([-40,14,32, 46, 59, 72, 100], dtype=float)"
      ],
      "metadata": {
        "id": "WOzxrWNZLBRp"
      },
      "execution_count": 5,
      "outputs": []
    },
    {
      "cell_type": "code",
      "source": [
        "capa = tf.keras.layers.Dense(units=1, input_shape=[1])\n",
        "modelo= tf.keras.Sequential ([capa])\n"
      ],
      "metadata": {
        "id": "WBZN62wkLtn1"
      },
      "execution_count": 6,
      "outputs": []
    },
    {
      "cell_type": "code",
      "source": [
        "modelo.compile(\n",
        "    optimizer=tf.keras.optimizers.Adam(0.1),\n",
        "    loss='mean_squared_error'\n",
        ")"
      ],
      "metadata": {
        "id": "Db9VBbmMMODq"
      },
      "execution_count": 7,
      "outputs": []
    },
    {
      "cell_type": "code",
      "source": [
        "print(\"entrenando!\")\n",
        "historial=modelo.fit(celsius, fahrenheit,epochs=1000, verbose=False)\n",
        "print(\"entrenado!\")\n",
        "\n"
      ],
      "metadata": {
        "colab": {
          "base_uri": "https://localhost:8080/"
        },
        "id": "pphjn9StM6lh",
        "outputId": "df372e57-3cc8-41c0-d1e0-19f7caa9da1d"
      },
      "execution_count": 8,
      "outputs": [
        {
          "output_type": "stream",
          "name": "stdout",
          "text": [
            "entrenando!\n",
            "entrenado!\n"
          ]
        }
      ]
    },
    {
      "cell_type": "code",
      "source": [
        "import matplotlib.pyplot as plt\n",
        "plt.xlabel(\"# epoca\")\n",
        "plt.ylabel(\"magnitud pérdida\")\n",
        "plt.plot(historial.history[\"loss\"])"
      ],
      "metadata": {
        "colab": {
          "base_uri": "https://localhost:8080/",
          "height": 297
        },
        "id": "tq_-sLo2NSTw",
        "outputId": "8856cf85-a95f-49f7-f062-b8a2d5bd07eb"
      },
      "execution_count": 9,
      "outputs": [
        {
          "output_type": "execute_result",
          "data": {
            "text/plain": [
              "[<matplotlib.lines.Line2D at 0x7f3b9a3d9350>]"
            ]
          },
          "metadata": {},
          "execution_count": 9
        },
        {
          "output_type": "display_data",
          "data": {
            "text/plain": [
              "<Figure size 432x288 with 1 Axes>"
            ],
            "image/png": "[encoded data removed]"
          },
          "metadata": {
            "needs_background": "light"
          }
        }
      ]
    },
    {
      "cell_type": "code",
      "source": [
        "print(\"prediccion\")\n",
        "resultado = modelo.predict([90.0])\n",
        "print(\"resultado\" + str(resultado) + \"fahrenheit\")\n"
      ],
      "metadata": {
        "colab": {
          "base_uri": "https://localhost:8080/"
        },
        "id": "Uq9Kb-QrPf53",
        "outputId": "f78d36b0-035c-4269-b467-00a8a41441db"
      },
      "execution_count": 13,
      "outputs": [
        {
          "output_type": "stream",
          "name": "stdout",
          "text": [
            "prediccion\n",
            "resultado[[203.25267]]fahrenheit\n"
          ]
        }
      ]
    },
    {
      "cell_type": "code",
      "source": [
        "print(\"variables internas del modelo\")\n",
        "print(capa.get_weights())\n"
      ],
      "metadata": {
        "colab": {
          "base_uri": "https://localhost:8080/"
        },
        "id": "gYEF_rOHRwzk",
        "outputId": "b7841cd6-7fb0-45dd-93cc-ee72260a1a83"
      },
      "execution_count": 14,
      "outputs": [
        {
          "output_type": "stream",
          "name": "stdout",
          "text": [
            "variables internas del modelo\n",
            "[array([[1.9094135]], dtype=float32), array([31.40546], dtype=float32)]\n"
          ]
        }
      ]
    }
  ]
}